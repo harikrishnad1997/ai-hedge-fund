{
  "cells": [
    {
      "cell_type": "code",
      "execution_count": 1,
      "metadata": {
        "colab": {
          "base_uri": "https://localhost:8080/"
        },
        "id": "eSJ5jzotFsI1",
        "outputId": "a75c69f7-6f34-4c00-ca00-ce4ebee9d87e"
      },
      "outputs": [
        {
          "name": "stdout",
          "output_type": "stream",
          "text": [
            "Response JSON:\n",
            "{'count': 1111, 'pages': 12, 'current_page': 1, 'results': [{'rank': 1, 'ticker': 'SPY', 'name': 'SPDR S&amp;P 500 ETF Trust', 'mentions': 831, 'upvotes': 5214, 'rank_24h_ago': 1, 'mentions_24h_ago': 667}, {'rank': 2, 'ticker': 'TSLA', 'name': 'Tesla', 'mentions': 385, 'upvotes': 3189, 'rank_24h_ago': 2, 'mentions_24h_ago': 404}, {'rank': 3, 'ticker': 'SMCI', 'name': 'Supermicro', 'mentions': 316, 'upvotes': 1778, 'rank_24h_ago': 60, 'mentions_24h_ago': 11}, {'rank': 4, 'ticker': 'NVDA', 'name': 'NVIDIA', 'mentions': 293, 'upvotes': 1522, 'rank_24h_ago': 3, 'mentions_24h_ago': 164}, {'rank': 5, 'ticker': 'META', 'name': 'Meta Platforms (Facebook)', 'mentions': 212, 'upvotes': 776, 'rank_24h_ago': 25, 'mentions_24h_ago': 39}, {'rank': 6, 'ticker': 'HOOD', 'name': 'Robinhood', 'mentions': 182, 'upvotes': 530, 'rank_24h_ago': 22, 'mentions_24h_ago': 47}, {'rank': 7, 'ticker': 'MSFT', 'name': 'Microsoft', 'mentions': 180, 'upvotes': 597, 'rank_24h_ago': 40, 'mentions_24h_ago': 15}, {'rank': 8, 'ticker': 'SNAP', 'name': 'Snap', 'mentions': 151, 'upvotes': 661, 'rank_24h_ago': 29, 'mentions_24h_ago': 51}, {'rank': 9, 'ticker': 'QQQ', 'name': 'Invesco QQQ ETF', 'mentions': 118, 'upvotes': 373, 'rank_24h_ago': 10, 'mentions_24h_ago': 94}, {'rank': 10, 'ticker': 'AM', 'name': 'Antero Midstream', 'mentions': 97, 'upvotes': 281, 'rank_24h_ago': 9, 'mentions_24h_ago': 104}, {'rank': 11, 'ticker': 'PLTR', 'name': 'Palantir', 'mentions': 95, 'upvotes': 620, 'rank_24h_ago': 13, 'mentions_24h_ago': 71}, {'rank': 12, 'ticker': 'DTE', 'name': 'DTE Energy', 'mentions': 91, 'upvotes': 1936, 'rank_24h_ago': 11, 'mentions_24h_ago': 87}, {'rank': 13, 'ticker': 'MAGA', 'name': 'ETF Series Solutions Trust - Point Bridge GOP Stock Tracker ETF', 'mentions': 74, 'upvotes': 351, 'rank_24h_ago': 14, 'mentions_24h_ago': 93}, {'rank': 14, 'ticker': 'WOLF', 'name': 'Wolfspeed', 'mentions': 71, 'upvotes': 561, 'rank_24h_ago': 5, 'mentions_24h_ago': 108}, {'rank': 15, 'ticker': 'MSTR', 'name': 'MicroStrategy', 'mentions': 68, 'upvotes': 170, 'rank_24h_ago': 21, 'mentions_24h_ago': 53}, {'rank': 16, 'ticker': 'SBUX', 'name': 'Starbucks', 'mentions': 66, 'upvotes': 545, 'rank_24h_ago': 94, 'mentions_24h_ago': 18}, {'rank': 17, 'ticker': 'AMZN', 'name': 'Amazon', 'mentions': 62, 'upvotes': 350, 'rank_24h_ago': 4, 'mentions_24h_ago': 144}, {'rank': 18, 'ticker': 'UPS', 'name': 'United Parcel Service', 'mentions': 62, 'upvotes': 473, 'rank_24h_ago': 12, 'mentions_24h_ago': 105}, {'rank': 19, 'ticker': 'GOOG', 'name': 'Alphabet (Google)', 'mentions': 59, 'upvotes': 215, 'rank_24h_ago': 15, 'mentions_24h_ago': 46}, {'rank': 20, 'ticker': 'EU', 'name': 'enCore Energy', 'mentions': 59, 'upvotes': 204, 'rank_24h_ago': 8, 'mentions_24h_ago': 106}, {'rank': 21, 'ticker': 'BE', 'name': 'Bloom Energy', 'mentions': 57, 'upvotes': 1354, 'rank_24h_ago': 151, 'mentions_24h_ago': 4}, {'rank': 22, 'ticker': 'RDDT', 'name': 'Reddit', 'mentions': 57, 'upvotes': 223, 'rank_24h_ago': 27, 'mentions_24h_ago': 30}, {'rank': 23, 'ticker': 'AAPL', 'name': 'Apple', 'mentions': 53, 'upvotes': 214, 'rank_24h_ago': 28, 'mentions_24h_ago': 27}, {'rank': 24, 'ticker': 'WW', 'name': 'Weight Watchers', 'mentions': 51, 'upvotes': 215, 'rank_24h_ago': 17, 'mentions_24h_ago': 60}, {'rank': 25, 'ticker': 'JD', 'name': 'Jingdong Mall', 'mentions': 50, 'upvotes': 602, 'rank_24h_ago': 35, 'mentions_24h_ago': 25}, {'rank': 26, 'ticker': 'IT', 'name': 'Gartner', 'mentions': 47, 'upvotes': 199, 'rank_24h_ago': 31, 'mentions_24h_ago': 33}, {'rank': 27, 'ticker': 'YOU', 'name': 'CLEAR Secure', 'mentions': 47, 'upvotes': 233, 'rank_24h_ago': 26, 'mentions_24h_ago': 34}, {'rank': 28, 'ticker': 'AMD', 'name': 'AMD', 'mentions': 46, 'upvotes': 460, 'rank_24h_ago': 24, 'mentions_24h_ago': 25}, {'rank': 29, 'ticker': 'SQQQ', 'name': 'ProShares Trust - ProShares UltraPro Short QQQ', 'mentions': 44, 'upvotes': 150, 'rank_24h_ago': 53, 'mentions_24h_ago': 10}, {'rank': 30, 'ticker': 'ADP', 'name': 'Automatic Data Processing', 'mentions': 43, 'upvotes': 913, 'rank_24h_ago': 194, 'mentions_24h_ago': 3}, {'rank': 31, 'ticker': 'GLD', 'name': 'SSgA Active Trust - SSgA SPDR Gold Shares', 'mentions': 42, 'upvotes': 300, 'rank_24h_ago': 19, 'mentions_24h_ago': 28}, {'rank': 32, 'ticker': 'AMC', 'name': 'AMC Entertainment', 'mentions': 37, 'upvotes': 391, 'rank_24h_ago': 51, 'mentions_24h_ago': 15}, {'rank': 33, 'ticker': 'UP', 'name': 'Wheels Up', 'mentions': 36, 'upvotes': 168, 'rank_24h_ago': 43, 'mentions_24h_ago': 26}, {'rank': 34, 'ticker': 'VOO', 'name': 'Vanguard S&amp;P 500 ETF', 'mentions': 35, 'upvotes': 102, 'rank_24h_ago': 36, 'mentions_24h_ago': 22}, {'rank': 35, 'ticker': 'ALL', 'name': 'Allstate', 'mentions': 34, 'upvotes': 163, 'rank_24h_ago': 39, 'mentions_24h_ago': 28}, {'rank': 36, 'ticker': 'WH', 'name': 'Wyndham Hotels &amp; Resorts', 'mentions': 32, 'upvotes': 69, 'rank_24h_ago': 20, 'mentions_24h_ago': 49}, {'rank': 37, 'ticker': 'NOW', 'name': 'ServiceNow', 'mentions': 28, 'upvotes': 101, 'rank_24h_ago': 66, 'mentions_24h_ago': 13}, {'rank': 38, 'ticker': 'SO', 'name': 'Southern Company', 'mentions': 28, 'upvotes': 151, 'rank_24h_ago': 67, 'mentions_24h_ago': 12}, {'rank': 39, 'ticker': 'GOOGL', 'name': 'Alphabet (Google)', 'mentions': 28, 'upvotes': 170, 'rank_24h_ago': 44, 'mentions_24h_ago': 22}, {'rank': 40, 'ticker': 'DJT', 'name': 'Trump Media &amp; Technology Group', 'mentions': 28, 'upvotes': 260, 'rank_24h_ago': 38, 'mentions_24h_ago': 24}, {'rank': 41, 'ticker': 'MS', 'name': 'Morgan Stanley', 'mentions': 27, 'upvotes': 1149, 'rank_24h_ago': 145, 'mentions_24h_ago': 4}, {'rank': 42, 'ticker': 'UNH', 'name': 'UnitedHealth', 'mentions': 26, 'upvotes': 50, 'rank_24h_ago': 45, 'mentions_24h_ago': 30}, {'rank': 43, 'ticker': 'HIMS', 'name': 'Hims &amp; Hers Health', 'mentions': 25, 'upvotes': 77, 'rank_24h_ago': 7, 'mentions_24h_ago': 132}, {'rank': 44, 'ticker': 'SOFI', 'name': 'SoFi', 'mentions': 24, 'upvotes': 48, 'rank_24h_ago': 6, 'mentions_24h_ago': 116}, {'rank': 45, 'ticker': 'FOR', 'name': 'Forestar Group', 'mentions': 23, 'upvotes': 138, 'rank_24h_ago': 73, 'mentions_24h_ago': 9}, {'rank': 46, 'ticker': 'DEI', 'name': 'Douglas Emmett', 'mentions': 22, 'upvotes': 283, 'rank_24h_ago': 71, 'mentions_24h_ago': 10}, {'rank': 47, 'ticker': 'QCOM', 'name': 'QUALCOMM', 'mentions': 21, 'upvotes': 32, 'rank_24h_ago': 314, 'mentions_24h_ago': 1}, {'rank': 48, 'ticker': 'IQ', 'name': 'iQIYI', 'mentions': 21, 'upvotes': 446, 'rank_24h_ago': 48, 'mentions_24h_ago': 18}, {'rank': 49, 'ticker': 'BIG', 'name': 'Big Lots', 'mentions': 19, 'upvotes': 344, 'rank_24h_ago': 97, 'mentions_24h_ago': 8}, {'rank': 50, 'ticker': 'BULL', 'name': 'Webull', 'mentions': 19, 'upvotes': 44, 'rank_24h_ago': 23, 'mentions_24h_ago': 31}, {'rank': 51, 'ticker': 'IBM', 'name': 'IBM', 'mentions': 18, 'upvotes': 390, 'rank_24h_ago': 162, 'mentions_24h_ago': 2}, {'rank': 52, 'ticker': 'ICE', 'name': 'Intercontinental Exchange', 'mentions': 18, 'upvotes': 380, 'rank_24h_ago': 58, 'mentions_24h_ago': 8}, {'rank': 53, 'ticker': 'TQQQ', 'name': 'ProShares Trust - ProShares UltraPro QQQ', 'mentions': 18, 'upvotes': 245, 'rank_24h_ago': 30, 'mentions_24h_ago': 27}, {'rank': 54, 'ticker': 'PR', 'name': 'Permian Resources', 'mentions': 18, 'upvotes': 185, 'rank_24h_ago': 120, 'mentions_24h_ago': 10}, {'rank': 55, 'ticker': 'LINK', 'name': 'Interlink Electronics', 'mentions': 18, 'upvotes': 22, 'rank_24h_ago': 37, 'mentions_24h_ago': 25}, {'rank': 56, 'ticker': 'DEA', 'name': 'Easterly Government Properties', 'mentions': 17, 'upvotes': 4247, 'rank_24h_ago': 436, 'mentions_24h_ago': 1}, {'rank': 57, 'ticker': 'GO', 'name': 'Grocery Outlet', 'mentions': 17, 'upvotes': 66, 'rank_24h_ago': 95, 'mentions_24h_ago': 9}, {'rank': 58, 'ticker': 'JUST', 'name': 'Goldman Sachs ETF Trust - Goldman Sachs Just Us Large Cap Equity ETF', 'mentions': 17, 'upvotes': 292, 'rank_24h_ago': 133, 'mentions_24h_ago': 8}, {'rank': 59, 'ticker': 'INTC', 'name': 'Intel', 'mentions': 16, 'upvotes': 31, 'rank_24h_ago': 52, 'mentions_24h_ago': 11}, {'rank': 60, 'ticker': 'ON', 'name': 'ON Semiconductor', 'mentions': 16, 'upvotes': 66, 'rank_24h_ago': 55, 'mentions_24h_ago': 13}, {'rank': 61, 'ticker': 'ET', 'name': 'Energy Transfer Partners', 'mentions': 16, 'upvotes': 37, 'rank_24h_ago': 70, 'mentions_24h_ago': 12}, {'rank': 62, 'ticker': 'SOXL', 'name': 'Direxion Shares ETF Trust - Direxion Daily Semiconductor Bull 3X Share', 'mentions': 16, 'upvotes': 28, 'rank_24h_ago': 99, 'mentions_24h_ago': 4}, {'rank': 63, 'ticker': 'GME', 'name': 'GameStop', 'mentions': 16, 'upvotes': 97, 'rank_24h_ago': 81, 'mentions_24h_ago': 10}, {'rank': 64, 'ticker': 'NFLX', 'name': 'Netflix', 'mentions': 15, 'upvotes': 54, 'rank_24h_ago': 56, 'mentions_24h_ago': 13}, {'rank': 65, 'ticker': 'LLY', 'name': 'Eli Lilly', 'mentions': 15, 'upvotes': 47, 'rank_24h_ago': 84, 'mentions_24h_ago': 10}, {'rank': 66, 'ticker': 'SPOT', 'name': 'Spotify', 'mentions': 15, 'upvotes': 56, 'rank_24h_ago': 18, 'mentions_24h_ago': 47}, {'rank': 67, 'ticker': 'GM', 'name': 'General Motors', 'mentions': 14, 'upvotes': 137, 'rank_24h_ago': 16, 'mentions_24h_ago': 61}, {'rank': 68, 'ticker': 'OR', 'name': 'Osisko Gold Royalties', 'mentions': 14, 'upvotes': 56, 'rank_24h_ago': 69, 'mentions_24h_ago': 9}, {'rank': 69, 'ticker': 'VTI', 'name': 'Vanguard Total Stock Market ETF', 'mentions': 14, 'upvotes': 27, 'rank_24h_ago': 50, 'mentions_24h_ago': 17}, {'rank': 70, 'ticker': 'IWM', 'name': 'BlackRock Institutional Trust Company N.A. - BTC iShares Russell 2000', 'mentions': 14, 'upvotes': 31, 'rank_24h_ago': 42, 'mentions_24h_ago': 20}, {'rank': 71, 'ticker': 'SGOV', 'name': 'iShares Trust - iShares 0-3 Month Treasury Bond ETF', 'mentions': 14, 'upvotes': 45, 'rank_24h_ago': 63, 'mentions_24h_ago': 12}, {'rank': 72, 'ticker': 'DOW', 'name': 'Dow', 'mentions': 13, 'upvotes': 54, 'rank_24h_ago': 106, 'mentions_24h_ago': 6}, {'rank': 73, 'ticker': 'BABA', 'name': 'Alibaba', 'mentions': 13, 'upvotes': 100, 'rank_24h_ago': 146, 'mentions_24h_ago': 4}, {'rank': 74, 'ticker': 'CC', 'name': 'Chemours', 'mentions': 13, 'upvotes': 20, 'rank_24h_ago': 49, 'mentions_24h_ago': 11}, {'rank': 75, 'ticker': 'CVNA', 'name': 'Carvana', 'mentions': 13, 'upvotes': 49, 'rank_24h_ago': 61, 'mentions_24h_ago': 13}, {'rank': 76, 'ticker': 'MA', 'name': 'Mastercard', 'mentions': 12, 'upvotes': 47, 'rank_24h_ago': 140, 'mentions_24h_ago': 4}, {'rank': 77, 'ticker': 'RE', 'name': 'Everest Re', 'mentions': 12, 'upvotes': 40, 'rank_24h_ago': 144, 'mentions_24h_ago': 9}, {'rank': 78, 'ticker': 'HE', 'name': 'Hawaiian Electric Industries', 'mentions': 12, 'upvotes': 104, 'rank_24h_ago': 147, 'mentions_24h_ago': 2}, {'rank': 79, 'ticker': 'THC', 'name': 'Tenet Healthcare', 'mentions': 12, 'upvotes': 88, 'rank_24h_ago': 460, 'mentions_24h_ago': 1}, {'rank': 80, 'ticker': 'TLT', 'name': 'BlackRock Institutional Trust Company N.A. - BTC iShares 20+ Year Trea', 'mentions': 12, 'upvotes': 27, 'rank_24h_ago': 62, 'mentions_24h_ago': 11}, {'rank': 81, 'ticker': 'OUT', 'name': 'Outfront Media', 'mentions': 12, 'upvotes': 34, 'rank_24h_ago': 808, 'mentions_24h_ago': 1}, {'rank': 82, 'ticker': 'MO', 'name': 'Altria Group', 'mentions': 11, 'upvotes': 72, 'rank_24h_ago': 124, 'mentions_24h_ago': 4}, {'rank': 83, 'ticker': 'IP', 'name': 'International Paper', 'mentions': 11, 'upvotes': 62, 'rank_24h_ago': 32, 'mentions_24h_ago': 24}, {'rank': 84, 'ticker': 'IBKR', 'name': 'Interactive Brokers', 'mentions': 11, 'upvotes': 27, 'rank_24h_ago': 86, 'mentions_24h_ago': 10}, {'rank': 85, 'ticker': 'RS', 'name': 'Reliance Steel &amp; Aluminum', 'mentions': 11, 'upvotes': 24, 'rank_24h_ago': 177, 'mentions_24h_ago': 6}, {'rank': 86, 'ticker': 'CVS', 'name': 'CVS Health', 'mentions': 10, 'upvotes': 27, 'rank_24h_ago': 276, 'mentions_24h_ago': 2}, {'rank': 87, 'ticker': 'ES', 'name': 'Eversource Energy', 'mentions': 10, 'upvotes': 37, 'rank_24h_ago': 57, 'mentions_24h_ago': 9}, {'rank': 88, 'ticker': 'SMH', 'name': 'VanEck Vectors ETF Trust - VanEck Vectors Semiconductor ETF', 'mentions': 10, 'upvotes': 21, 'rank_24h_ago': 112, 'mentions_24h_ago': 4}, {'rank': 89, 'ticker': 'GNLN', 'name': 'Greenlane', 'mentions': 10, 'upvotes': 25, 'rank_24h_ago': 82, 'mentions_24h_ago': 10}, {'rank': 90, 'ticker': 'NX', 'name': 'Quanex Building Products', 'mentions': 10, 'upvotes': 2211, 'rank_24h_ago': 843, 'mentions_24h_ago': 1}, {'rank': 91, 'ticker': 'DC', 'name': 'Dakota Gold', 'mentions': 10, 'upvotes': 26, 'rank_24h_ago': 54, 'mentions_24h_ago': 14}, {'rank': 92, 'ticker': 'LOT', 'name': 'Lotus Technology', 'mentions': 10, 'upvotes': 52, 'rank_24h_ago': 90, 'mentions_24h_ago': 7}, {'rank': 93, 'ticker': 'CAT', 'name': 'Caterpillar', 'mentions': 9, 'upvotes': 34, 'rank_24h_ago': 91, 'mentions_24h_ago': 7}, {'rank': 94, 'ticker': 'GL', 'name': 'Globe Life', 'mentions': 9, 'upvotes': 16, 'rank_24h_ago': 286, 'mentions_24h_ago': 2}, {'rank': 95, 'ticker': 'DAR', 'name': 'Darling Ingredients', 'mentions': 9, 'upvotes': -5, 'rank_24h_ago': 431, 'mentions_24h_ago': 2}, {'rank': 96, 'ticker': 'TDS', 'name': 'Telephone and Data Systems', 'mentions': 9, 'upvotes': 13, 'rank_24h_ago': 211, 'mentions_24h_ago': 4}, {'rank': 97, 'ticker': 'CGC', 'name': 'Canopy Growth', 'mentions': 9, 'upvotes': 19, 'rank_24h_ago': 0, 'mentions_24h_ago': None}, {'rank': 98, 'ticker': 'PUMP', 'name': 'ProPetro', 'mentions': 9, 'upvotes': 16, 'rank_24h_ago': 100, 'mentions_24h_ago': 8}, {'rank': 99, 'ticker': 'GEO', 'name': 'Geo Group', 'mentions': 9, 'upvotes': 34, 'rank_24h_ago': 0, 'mentions_24h_ago': None}, {'rank': 100, 'ticker': 'ME', 'name': '23andMe', 'mentions': 9, 'upvotes': 34, 'rank_24h_ago': 234, 'mentions_24h_ago': 3}]}\n"
          ]
        }
      ],
      "source": [
        "import requests\n",
        "\n",
        "url = 'https://apewisdom.io/api/v1.0/filter/all-stocks'\n",
        "\n",
        "try:\n",
        "    response = requests.get(url)\n",
        "    response.raise_for_status()\n",
        "\n",
        "    data = response.json()\n",
        "    print(\"Response JSON:\")\n",
        "    print(data)\n",
        "\n",
        "except requests.exceptions.RequestException as e:\n",
        "    print(f\"An error occurred: {e}\")"
      ]
    },
    {
      "cell_type": "code",
      "execution_count": 2,
      "metadata": {
        "colab": {
          "base_uri": "https://localhost:8080/",
          "height": 206
        },
        "id": "kqfdfJS2Fs_l",
        "outputId": "7ab99f10-e6a8-4181-af5e-993cd4d3be4f"
      },
      "outputs": [
        {
          "data": {
            "text/html": [
              "<div>\n",
              "<style scoped>\n",
              "    .dataframe tbody tr th:only-of-type {\n",
              "        vertical-align: middle;\n",
              "    }\n",
              "\n",
              "    .dataframe tbody tr th {\n",
              "        vertical-align: top;\n",
              "    }\n",
              "\n",
              "    .dataframe thead th {\n",
              "        text-align: right;\n",
              "    }\n",
              "</style>\n",
              "<table border=\"1\" class=\"dataframe\">\n",
              "  <thead>\n",
              "    <tr style=\"text-align: right;\">\n",
              "      <th></th>\n",
              "      <th>rank</th>\n",
              "      <th>ticker</th>\n",
              "      <th>name</th>\n",
              "      <th>mentions</th>\n",
              "      <th>upvotes</th>\n",
              "      <th>rank_24h_ago</th>\n",
              "      <th>mentions_24h_ago</th>\n",
              "    </tr>\n",
              "  </thead>\n",
              "  <tbody>\n",
              "    <tr>\n",
              "      <th>0</th>\n",
              "      <td>1</td>\n",
              "      <td>SPY</td>\n",
              "      <td>SPDR S&amp;amp;P 500 ETF Trust</td>\n",
              "      <td>831</td>\n",
              "      <td>5214</td>\n",
              "      <td>1</td>\n",
              "      <td>667.0</td>\n",
              "    </tr>\n",
              "    <tr>\n",
              "      <th>1</th>\n",
              "      <td>2</td>\n",
              "      <td>TSLA</td>\n",
              "      <td>Tesla</td>\n",
              "      <td>385</td>\n",
              "      <td>3189</td>\n",
              "      <td>2</td>\n",
              "      <td>404.0</td>\n",
              "    </tr>\n",
              "    <tr>\n",
              "      <th>2</th>\n",
              "      <td>3</td>\n",
              "      <td>SMCI</td>\n",
              "      <td>Supermicro</td>\n",
              "      <td>316</td>\n",
              "      <td>1778</td>\n",
              "      <td>60</td>\n",
              "      <td>11.0</td>\n",
              "    </tr>\n",
              "    <tr>\n",
              "      <th>3</th>\n",
              "      <td>4</td>\n",
              "      <td>NVDA</td>\n",
              "      <td>NVIDIA</td>\n",
              "      <td>293</td>\n",
              "      <td>1522</td>\n",
              "      <td>3</td>\n",
              "      <td>164.0</td>\n",
              "    </tr>\n",
              "    <tr>\n",
              "      <th>4</th>\n",
              "      <td>5</td>\n",
              "      <td>META</td>\n",
              "      <td>Meta Platforms (Facebook)</td>\n",
              "      <td>212</td>\n",
              "      <td>776</td>\n",
              "      <td>25</td>\n",
              "      <td>39.0</td>\n",
              "    </tr>\n",
              "  </tbody>\n",
              "</table>\n",
              "</div>"
            ],
            "text/plain": [
              "   rank ticker                        name  mentions  upvotes  rank_24h_ago  \\\n",
              "0     1    SPY  SPDR S&amp;P 500 ETF Trust       831     5214             1   \n",
              "1     2   TSLA                       Tesla       385     3189             2   \n",
              "2     3   SMCI                  Supermicro       316     1778            60   \n",
              "3     4   NVDA                      NVIDIA       293     1522             3   \n",
              "4     5   META   Meta Platforms (Facebook)       212      776            25   \n",
              "\n",
              "   mentions_24h_ago  \n",
              "0             667.0  \n",
              "1             404.0  \n",
              "2              11.0  \n",
              "3             164.0  \n",
              "4              39.0  "
            ]
          },
          "execution_count": 2,
          "metadata": {},
          "output_type": "execute_result"
        }
      ],
      "source": [
        "import pandas as pd\n",
        "df = pd.DataFrame(data['results'])\n",
        "df.head()"
      ]
    },
    {
      "cell_type": "code",
      "execution_count": 3,
      "metadata": {
        "colab": {
          "base_uri": "https://localhost:8080/",
          "height": 424
        },
        "id": "HkOHtYlnF3Mw",
        "outputId": "93085a10-d257-40ab-f3e0-639ed231f973"
      },
      "outputs": [
        {
          "data": {
            "text/html": [
              "<div>\n",
              "<style scoped>\n",
              "    .dataframe tbody tr th:only-of-type {\n",
              "        vertical-align: middle;\n",
              "    }\n",
              "\n",
              "    .dataframe tbody tr th {\n",
              "        vertical-align: top;\n",
              "    }\n",
              "\n",
              "    .dataframe thead th {\n",
              "        text-align: right;\n",
              "    }\n",
              "</style>\n",
              "<table border=\"1\" class=\"dataframe\">\n",
              "  <thead>\n",
              "    <tr style=\"text-align: right;\">\n",
              "      <th></th>\n",
              "      <th>ticker</th>\n",
              "    </tr>\n",
              "  </thead>\n",
              "  <tbody>\n",
              "    <tr>\n",
              "      <th>0</th>\n",
              "      <td>SPY</td>\n",
              "    </tr>\n",
              "    <tr>\n",
              "      <th>1</th>\n",
              "      <td>TSLA</td>\n",
              "    </tr>\n",
              "    <tr>\n",
              "      <th>2</th>\n",
              "      <td>SMCI</td>\n",
              "    </tr>\n",
              "    <tr>\n",
              "      <th>3</th>\n",
              "      <td>NVDA</td>\n",
              "    </tr>\n",
              "    <tr>\n",
              "      <th>4</th>\n",
              "      <td>META</td>\n",
              "    </tr>\n",
              "    <tr>\n",
              "      <th>...</th>\n",
              "      <td>...</td>\n",
              "    </tr>\n",
              "    <tr>\n",
              "      <th>95</th>\n",
              "      <td>TDS</td>\n",
              "    </tr>\n",
              "    <tr>\n",
              "      <th>96</th>\n",
              "      <td>CGC</td>\n",
              "    </tr>\n",
              "    <tr>\n",
              "      <th>97</th>\n",
              "      <td>PUMP</td>\n",
              "    </tr>\n",
              "    <tr>\n",
              "      <th>98</th>\n",
              "      <td>GEO</td>\n",
              "    </tr>\n",
              "    <tr>\n",
              "      <th>99</th>\n",
              "      <td>ME</td>\n",
              "    </tr>\n",
              "  </tbody>\n",
              "</table>\n",
              "<p>100 rows × 1 columns</p>\n",
              "</div>"
            ],
            "text/plain": [
              "   ticker\n",
              "0     SPY\n",
              "1    TSLA\n",
              "2    SMCI\n",
              "3    NVDA\n",
              "4    META\n",
              "..    ...\n",
              "95    TDS\n",
              "96    CGC\n",
              "97   PUMP\n",
              "98    GEO\n",
              "99     ME\n",
              "\n",
              "[100 rows x 1 columns]"
            ]
          },
          "execution_count": 3,
          "metadata": {},
          "output_type": "execute_result"
        }
      ],
      "source": [
        "df[['ticker']]"
      ]
    },
    {
      "cell_type": "code",
      "execution_count": 4,
      "metadata": {
        "id": "53ns_BEZlOgJ"
      },
      "outputs": [],
      "source": [
        "import requests\n",
        "from bs4 import BeautifulSoup\n",
        "import yfinance as yf\n",
        "import re\n",
        "def get_stock_details(ticker_symbol):\n",
        "\n",
        "    url = f'https://apewisdom.io/stocks/{ticker_symbol}/'\n",
        "    response = requests.get(url)\n",
        "    response.raise_for_status()\n",
        "\n",
        "    soup = BeautifulSoup(response.content, 'html.parser')\n",
        "    details_div = soup.find('div', class_='row', style='font-size: 18px; margin-top: 20px; margin-bottom: 10px;')\n",
        "\n",
        "    if details_div:\n",
        "        details_text = details_div.get_text(separator=\"\\n\").strip()\n",
        "    else:\n",
        "        details_text = f\"Details div not found for {ticker_symbol}.\"\n",
        "\n",
        "    match = re.search(r'keywords: (.*)', details_text)\n",
        "    if match:\n",
        "        keywords = match.group(1).split(\",\")\n",
        "        keywords = [keyword.strip().replace('\"', '') for keyword in keywords]\n",
        "    else:\n",
        "        keywords = []\n",
        "    stock_data = yf.Ticker(ticker_symbol)\n",
        "    try:\n",
        "        hist = stock_data.history(period=\"1d\")\n",
        "        if not hist.empty:\n",
        "            current_price = hist['Close'].iloc[-1]\n",
        "        else:\n",
        "            current_price = 'Price not found'\n",
        "    except Exception as e:\n",
        "        current_price = f'Error fetching price: {e}'\n",
        "\n",
        "    positive_percentage = None\n",
        "    match = re.search(r'(\\d+)% positive comments', details_text)\n",
        "    if match:\n",
        "        positive_percentage = int(match.group(1))\n",
        "\n",
        "    return details_text, current_price, positive_percentage, keywords"
      ]
    },
    {
      "cell_type": "code",
      "execution_count": 5,
      "metadata": {
        "colab": {
          "base_uri": "https://localhost:8080/"
        },
        "id": "Jj1g8tHZnBVY",
        "outputId": "896c1faf-fa72-47cb-9688-3b2853423f40"
      },
      "outputs": [
        {
          "data": {
            "text/plain": [
              "('During the last 24H AAPL (Apple) was mentioned 46 times on WallstreetBets by a total of 35 different users.\\nApple received 57% positive comments versus 43% negative comments.\\nMost comonly the AAPL ticker was associated with the keywords: \"earnings\",\"amzn\",\"green\",\"puts\",\"msft\"',\n",
              " 212.5,\n",
              " 57,\n",
              " ['earnings', 'amzn', 'green', 'puts', 'msft'])"
            ]
          },
          "execution_count": 5,
          "metadata": {},
          "output_type": "execute_result"
        }
      ],
      "source": [
        "get_stock_details('AAPL')"
      ]
    },
    {
      "cell_type": "code",
      "execution_count": 6,
      "metadata": {
        "colab": {
          "base_uri": "https://localhost:8080/"
        },
        "id": "TsXdBMXLnalx",
        "outputId": "5850e36e-75fd-4518-dc25-ff7a9d8b0c7b"
      },
      "outputs": [
        {
          "data": {
            "text/plain": [
              "('During the last 24H MSFT (Microsoft) was mentioned 162 times on WallstreetBets by a total of 121 different users.\\nMicrosoft received 63% positive comments versus 37% negative comments.\\nMost comonly the MSFT ticker was associated with the keywords: \"meta\",\"earnings\",\"calls\",\"img\",\"up\"',\n",
              " 395.260009765625,\n",
              " 63,\n",
              " ['meta', 'earnings', 'calls', 'img', 'up'])"
            ]
          },
          "execution_count": 6,
          "metadata": {},
          "output_type": "execute_result"
        }
      ],
      "source": [
        "get_stock_details('MSFT')"
      ]
    },
    {
      "cell_type": "code",
      "execution_count": 7,
      "metadata": {
        "colab": {
          "base_uri": "https://localhost:8080/"
        },
        "id": "bG3zUnnrncn3",
        "outputId": "161dc15a-6865-4f25-d2e5-1d724f45ff58"
      },
      "outputs": [
        {
          "data": {
            "text/plain": [
              "('During the last 24H TSLA (Tesla) was mentioned 356 times on WallstreetBets by a total of 225 different users.\\nTesla received 50% positive comments versus 50% negative comments.\\nMost comonly the TSLA ticker was associated with the keywords: \"bet\",\"before\",\"puts\",\"up\",\"img\"',\n",
              " 282.1600036621094,\n",
              " 50,\n",
              " ['bet', 'before', 'puts', 'up', 'img'])"
            ]
          },
          "execution_count": 7,
          "metadata": {},
          "output_type": "execute_result"
        }
      ],
      "source": [
        "get_stock_details('TSLA')"
      ]
    },
    {
      "cell_type": "code",
      "execution_count": 8,
      "metadata": {
        "colab": {
          "base_uri": "https://localhost:8080/"
        },
        "id": "gn1wBT3cneXq",
        "outputId": "61184522-caae-475f-877e-6cced569a10e"
      },
      "outputs": [
        {
          "data": {
            "text/plain": [
              "('During the last 24H GOOGL (Alphabet (Google)) was mentioned 22 times on WallstreetBets by a total of 18 different users.\\nAlphabet (Google) received 69% positive comments versus 31% negative comments.\\nMost comonly the GOOGL ticker was associated with the keywords: \"meta\",\"amzn\",\"msft\",\"calls\",\"good\"',\n",
              " 158.8000030517578,\n",
              " 69,\n",
              " ['meta', 'amzn', 'msft', 'calls', 'good'])"
            ]
          },
          "execution_count": 8,
          "metadata": {},
          "output_type": "execute_result"
        }
      ],
      "source": [
        "get_stock_details('GOOGL')"
      ]
    },
    {
      "cell_type": "code",
      "execution_count": 9,
      "metadata": {
        "colab": {
          "base_uri": "https://localhost:8080/"
        },
        "id": "minI2lVxnfnq",
        "outputId": "744c1b80-82c7-4271-cc75-8cb7e2e0181c"
      },
      "outputs": [
        {
          "data": {
            "text/plain": [
              "('During the last 24H SPY (SPDR S&P 500 ETF Trust\\r\\n\\r\\n) was mentioned 779 times on WallstreetBets by a total of 460 different users.\\nSPDR S&P 500 ETF Trust\\r\\n\\r\\n received 56% positive comments versus 44% negative comments.\\nMost comonly the SPY ticker was associated with the keywords: \"bet\",\"before\",\"img\",\"goes\",\"puts\"',\n",
              " 554.5399780273438,\n",
              " 56,\n",
              " ['bet', 'before', 'img', 'goes', 'puts'])"
            ]
          },
          "execution_count": 9,
          "metadata": {},
          "output_type": "execute_result"
        }
      ],
      "source": [
        "get_stock_details('SPY')"
      ]
    },
    {
      "cell_type": "code",
      "execution_count": 10,
      "metadata": {
        "id": "tmXUB4TknhAa"
      },
      "outputs": [],
      "source": [
        "# for ticker in df['ticker']:\n",
        "#     print(ticker)\n",
        "#     print('-----------------------------')\n",
        "#     # print(get_stock_details(ticker))\n",
        "#     details, price, positive_pct = get_stock_details(ticker)\n",
        "#     print(f\"\\nCurrent stock price: {price}\")\n",
        "#     print(f\"Positive Sentiment: {positive_pct}%\")\n",
        "#     print(f\"\\nSentiment details:\\n{details}\")\n",
        "#     print('-----------------------------')"
      ]
    },
    {
      "cell_type": "code",
      "execution_count": 11,
      "metadata": {
        "id": "MyJBsOq7nkNe"
      },
      "outputs": [],
      "source": [
        "def fetch_details(ticker):\n",
        "    details, price, positive_pct, keywords = get_stock_details(ticker)\n",
        "    return pd.Series({\n",
        "        'current_price': price,\n",
        "        'positive_sentiment_pct': positive_pct,\n",
        "        'sentiment_details': details,\n",
        "        'keywords': keywords\n",
        "    })"
      ]
    },
    {
      "cell_type": "code",
      "execution_count": 12,
      "metadata": {
        "colab": {
          "base_uri": "https://localhost:8080/"
        },
        "id": "EXqOIQb7rZP5",
        "outputId": "5d722d66-5188-44b8-e682-410b8c2ed029"
      },
      "outputs": [
        {
          "name": "stderr",
          "output_type": "stream",
          "text": [
            "$BIG: possibly delisted; no price data found  (period=1d) (Yahoo error = \"No data found, symbol may be delisted\")\n",
            "$RE: possibly delisted; no price data found  (period=1d) (Yahoo error = \"No data found, symbol may be delisted\")\n",
            "$ME: possibly delisted; no price data found  (period=1d)\n"
          ]
        }
      ],
      "source": [
        "df[['current_price', 'positive_sentiment_pct', 'sentiment_details', 'keywords']] = df['ticker'].apply(fetch_details)"
      ]
    },
    {
      "cell_type": "code",
      "execution_count": 15,
      "metadata": {},
      "outputs": [],
      "source": [
        "from datetime import datetime\n",
        "timestamp = datetime.now().strftime(\"%Y%m%d_%H%M%S\")\n",
        "filename = f'stock_data_{timestamp}.csv'\n",
        "df.to_csv(filename, index=False)"
      ]
    },
    {
      "cell_type": "code",
      "execution_count": 13,
      "metadata": {
        "colab": {
          "base_uri": "https://localhost:8080/",
          "height": 1000
        },
        "id": "rcaflw1drapK",
        "outputId": "2d0b8806-945b-489b-b583-0f9d56bf92b1"
      },
      "outputs": [
        {
          "data": {
            "text/html": [
              "<div>\n",
              "<style scoped>\n",
              "    .dataframe tbody tr th:only-of-type {\n",
              "        vertical-align: middle;\n",
              "    }\n",
              "\n",
              "    .dataframe tbody tr th {\n",
              "        vertical-align: top;\n",
              "    }\n",
              "\n",
              "    .dataframe thead th {\n",
              "        text-align: right;\n",
              "    }\n",
              "</style>\n",
              "<table border=\"1\" class=\"dataframe\">\n",
              "  <thead>\n",
              "    <tr style=\"text-align: right;\">\n",
              "      <th></th>\n",
              "      <th>rank</th>\n",
              "      <th>ticker</th>\n",
              "      <th>name</th>\n",
              "      <th>mentions</th>\n",
              "      <th>upvotes</th>\n",
              "      <th>rank_24h_ago</th>\n",
              "      <th>mentions_24h_ago</th>\n",
              "      <th>current_price</th>\n",
              "      <th>positive_sentiment_pct</th>\n",
              "      <th>sentiment_details</th>\n",
              "      <th>keywords</th>\n",
              "    </tr>\n",
              "  </thead>\n",
              "  <tbody>\n",
              "    <tr>\n",
              "      <th>0</th>\n",
              "      <td>1</td>\n",
              "      <td>SPY</td>\n",
              "      <td>SPDR S&amp;amp;P 500 ETF Trust</td>\n",
              "      <td>831</td>\n",
              "      <td>5214</td>\n",
              "      <td>1</td>\n",
              "      <td>667.0</td>\n",
              "      <td>554.539978</td>\n",
              "      <td>56.0</td>\n",
              "      <td>During the last 24H SPY (SPDR S&amp;P 500 ETF Trus...</td>\n",
              "      <td>[bet, before, img, goes, puts]</td>\n",
              "    </tr>\n",
              "    <tr>\n",
              "      <th>1</th>\n",
              "      <td>2</td>\n",
              "      <td>TSLA</td>\n",
              "      <td>Tesla</td>\n",
              "      <td>385</td>\n",
              "      <td>3189</td>\n",
              "      <td>2</td>\n",
              "      <td>404.0</td>\n",
              "      <td>282.160004</td>\n",
              "      <td>50.0</td>\n",
              "      <td>During the last 24H TSLA (Tesla) was mentioned...</td>\n",
              "      <td>[bet, before, puts, up, img]</td>\n",
              "    </tr>\n",
              "    <tr>\n",
              "      <th>2</th>\n",
              "      <td>3</td>\n",
              "      <td>SMCI</td>\n",
              "      <td>Supermicro</td>\n",
              "      <td>316</td>\n",
              "      <td>1778</td>\n",
              "      <td>60</td>\n",
              "      <td>11.0</td>\n",
              "      <td>31.860001</td>\n",
              "      <td>50.0</td>\n",
              "      <td>During the last 24H SMCI (Supermicro) was ment...</td>\n",
              "      <td>[img, emote, earnings, th, nvda]</td>\n",
              "    </tr>\n",
              "    <tr>\n",
              "      <th>3</th>\n",
              "      <td>4</td>\n",
              "      <td>NVDA</td>\n",
              "      <td>NVIDIA</td>\n",
              "      <td>293</td>\n",
              "      <td>1522</td>\n",
              "      <td>3</td>\n",
              "      <td>164.0</td>\n",
              "      <td>108.919998</td>\n",
              "      <td>51.0</td>\n",
              "      <td>During the last 24H NVDA (NVIDIA) was mentione...</td>\n",
              "      <td>[smci, img, bet, emote, calls]</td>\n",
              "    </tr>\n",
              "    <tr>\n",
              "      <th>4</th>\n",
              "      <td>5</td>\n",
              "      <td>META</td>\n",
              "      <td>Meta Platforms (Facebook)</td>\n",
              "      <td>212</td>\n",
              "      <td>776</td>\n",
              "      <td>25</td>\n",
              "      <td>39.0</td>\n",
              "      <td>549.0</td>\n",
              "      <td>61.0</td>\n",
              "      <td>During the last 24H META (Meta Platforms (Face...</td>\n",
              "      <td>[msft, earnings, calls, img, hood]</td>\n",
              "    </tr>\n",
              "    <tr>\n",
              "      <th>...</th>\n",
              "      <td>...</td>\n",
              "      <td>...</td>\n",
              "      <td>...</td>\n",
              "      <td>...</td>\n",
              "      <td>...</td>\n",
              "      <td>...</td>\n",
              "      <td>...</td>\n",
              "      <td>...</td>\n",
              "      <td>...</td>\n",
              "      <td>...</td>\n",
              "      <td>...</td>\n",
              "    </tr>\n",
              "    <tr>\n",
              "      <th>87</th>\n",
              "      <td>88</td>\n",
              "      <td>SMH</td>\n",
              "      <td>VanEck Vectors ETF Trust - VanEck Vectors Semi...</td>\n",
              "      <td>10</td>\n",
              "      <td>21</td>\n",
              "      <td>112</td>\n",
              "      <td>4.0</td>\n",
              "      <td>211.279999</td>\n",
              "      <td>100.0</td>\n",
              "      <td>During the last 24H SMH (VanEck Vectors ETF Tr...</td>\n",
              "      <td>[mstr, exposure, correlated, title, year]</td>\n",
              "    </tr>\n",
              "    <tr>\n",
              "      <th>88</th>\n",
              "      <td>89</td>\n",
              "      <td>GNLN</td>\n",
              "      <td>Greenlane</td>\n",
              "      <td>10</td>\n",
              "      <td>25</td>\n",
              "      <td>82</td>\n",
              "      <td>10.0</td>\n",
              "      <td>0.0113</td>\n",
              "      <td>67.0</td>\n",
              "      <td>During the last 24H GNLN (Greenlane) was menti...</td>\n",
              "      <td>[]</td>\n",
              "    </tr>\n",
              "    <tr>\n",
              "      <th>89</th>\n",
              "      <td>90</td>\n",
              "      <td>NX</td>\n",
              "      <td>Quanex Building Products</td>\n",
              "      <td>10</td>\n",
              "      <td>2211</td>\n",
              "      <td>843</td>\n",
              "      <td>1.0</td>\n",
              "      <td>16.440001</td>\n",
              "      <td>29.0</td>\n",
              "      <td>During the last 24H NX (Quanex Building Produc...</td>\n",
              "      <td>[earnings, imports, tariffs, drop, down]</td>\n",
              "    </tr>\n",
              "    <tr>\n",
              "      <th>90</th>\n",
              "      <td>91</td>\n",
              "      <td>DC</td>\n",
              "      <td>Dakota Gold</td>\n",
              "      <td>10</td>\n",
              "      <td>26</td>\n",
              "      <td>54</td>\n",
              "      <td>14.0</td>\n",
              "      <td>2.7</td>\n",
              "      <td>100.0</td>\n",
              "      <td>During the last 24H DC (Dakota Gold) was menti...</td>\n",
              "      <td>[fox, houston, washington, youtube, lavishly]</td>\n",
              "    </tr>\n",
              "    <tr>\n",
              "      <th>91</th>\n",
              "      <td>92</td>\n",
              "      <td>LOT</td>\n",
              "      <td>Lotus Technology</td>\n",
              "      <td>10</td>\n",
              "      <td>52</td>\n",
              "      <td>90</td>\n",
              "      <td>7.0</td>\n",
              "      <td>1.63</td>\n",
              "      <td>50.0</td>\n",
              "      <td>During the last 24H LOT (Lotus Technology) was...</td>\n",
              "      <td>[dumbfuck, americans, more, profitable, student]</td>\n",
              "    </tr>\n",
              "  </tbody>\n",
              "</table>\n",
              "<p>92 rows × 11 columns</p>\n",
              "</div>"
            ],
            "text/plain": [
              "    rank ticker                                               name  mentions  \\\n",
              "0      1    SPY                         SPDR S&amp;P 500 ETF Trust       831   \n",
              "1      2   TSLA                                              Tesla       385   \n",
              "2      3   SMCI                                         Supermicro       316   \n",
              "3      4   NVDA                                             NVIDIA       293   \n",
              "4      5   META                          Meta Platforms (Facebook)       212   \n",
              "..   ...    ...                                                ...       ...   \n",
              "87    88    SMH  VanEck Vectors ETF Trust - VanEck Vectors Semi...        10   \n",
              "88    89   GNLN                                          Greenlane        10   \n",
              "89    90     NX                           Quanex Building Products        10   \n",
              "90    91     DC                                        Dakota Gold        10   \n",
              "91    92    LOT                                   Lotus Technology        10   \n",
              "\n",
              "    upvotes  rank_24h_ago  mentions_24h_ago current_price  \\\n",
              "0      5214             1             667.0    554.539978   \n",
              "1      3189             2             404.0    282.160004   \n",
              "2      1778            60              11.0     31.860001   \n",
              "3      1522             3             164.0    108.919998   \n",
              "4       776            25              39.0         549.0   \n",
              "..      ...           ...               ...           ...   \n",
              "87       21           112               4.0    211.279999   \n",
              "88       25            82              10.0        0.0113   \n",
              "89     2211           843               1.0     16.440001   \n",
              "90       26            54              14.0           2.7   \n",
              "91       52            90               7.0          1.63   \n",
              "\n",
              "    positive_sentiment_pct                                  sentiment_details  \\\n",
              "0                     56.0  During the last 24H SPY (SPDR S&P 500 ETF Trus...   \n",
              "1                     50.0  During the last 24H TSLA (Tesla) was mentioned...   \n",
              "2                     50.0  During the last 24H SMCI (Supermicro) was ment...   \n",
              "3                     51.0  During the last 24H NVDA (NVIDIA) was mentione...   \n",
              "4                     61.0  During the last 24H META (Meta Platforms (Face...   \n",
              "..                     ...                                                ...   \n",
              "87                   100.0  During the last 24H SMH (VanEck Vectors ETF Tr...   \n",
              "88                    67.0  During the last 24H GNLN (Greenlane) was menti...   \n",
              "89                    29.0  During the last 24H NX (Quanex Building Produc...   \n",
              "90                   100.0  During the last 24H DC (Dakota Gold) was menti...   \n",
              "91                    50.0  During the last 24H LOT (Lotus Technology) was...   \n",
              "\n",
              "                                            keywords  \n",
              "0                     [bet, before, img, goes, puts]  \n",
              "1                       [bet, before, puts, up, img]  \n",
              "2                   [img, emote, earnings, th, nvda]  \n",
              "3                     [smci, img, bet, emote, calls]  \n",
              "4                 [msft, earnings, calls, img, hood]  \n",
              "..                                               ...  \n",
              "87         [mstr, exposure, correlated, title, year]  \n",
              "88                                                []  \n",
              "89          [earnings, imports, tariffs, drop, down]  \n",
              "90     [fox, houston, washington, youtube, lavishly]  \n",
              "91  [dumbfuck, americans, more, profitable, student]  \n",
              "\n",
              "[92 rows x 11 columns]"
            ]
          },
          "execution_count": 13,
          "metadata": {},
          "output_type": "execute_result"
        }
      ],
      "source": [
        "df[df['mentions']>=10]"
      ]
    }
  ],
  "metadata": {
    "colab": {
      "provenance": []
    },
    "kernelspec": {
      "display_name": "base",
      "language": "python",
      "name": "python3"
    },
    "language_info": {
      "codemirror_mode": {
        "name": "ipython",
        "version": 3
      },
      "file_extension": ".py",
      "mimetype": "text/x-python",
      "name": "python",
      "nbconvert_exporter": "python",
      "pygments_lexer": "ipython3",
      "version": "3.12.7"
    }
  },
  "nbformat": 4,
  "nbformat_minor": 0
}
